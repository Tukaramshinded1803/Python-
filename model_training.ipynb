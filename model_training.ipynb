import pandas as pd
from sklearn.linear_model import LinearRegression
from sklearn.datasets import load_boston
import pickle

# Load dataset
boston = load_boston()
df = pd.DataFrame(boston.data, columns=boston.feature_names)
df['PRICE'] = boston.target

# Select features and target
X = df[['RM']]  # Average rooms per dwelling
y = df['PRICE']

# Train model
model = LinearRegression()
model.fit(X, y)

# Save the model
with open('model.pkl', 'wb') as file:
    pickle.dump(model, file)
