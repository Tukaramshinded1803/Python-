# Train model using Boston housing dataset
import pandas as pd
from sklearn.linear_model import LinearRegression
from sklearn.datasets import load_boston
import pickle

# Load data
boston = load_boston()
df = pd.DataFrame(boston.data, columns=boston.feature_names)
df['PRICE'] = boston.target

# Feature: RM (average number of rooms)
X = df[['RM']]
y = df['PRICE']

# Train model
model = LinearRegression()
model.fit(X, y)

# Save model
with open('model.pkl', 'wb') as f:
    pickle.dump(model, f)

print("✅ Model trained and saved successfully.")
